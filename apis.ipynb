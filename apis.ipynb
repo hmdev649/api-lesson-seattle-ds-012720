{
 "cells": [
  {
   "cell_type": "markdown",
   "metadata": {},
   "source": [
    "# APIs"
   ]
  },
  {
   "cell_type": "markdown",
   "metadata": {},
   "source": [
    "**Prerequisites:** You need the `requests` package for this lesson.  You should be able to install it with `conda`."
   ]
  },
  {
   "cell_type": "markdown",
   "metadata": {},
   "source": [
    "## Reading Existing Code (Google Books Query)\n",
    " - Uses the Python [`requests` library](https://2.python-requests.org/en/master/)\n",
    " - Uses the [Google Books API](https://developers.google.com/books/docs/v1/using#WorkingVolumes)\n",
    " - Searches for author \"Jake VanderPlas\" (author of my go-to Python data science book)\n",
    " - Prints out a list of book titles that match this query"
   ]
  },
  {
   "cell_type": "code",
   "execution_count": 1,
   "metadata": {},
   "outputs": [
    {
     "name": "stdout",
     "output_type": "stream",
     "text": [
      "Python Data Science Handbook\n",
      "A Whirlwind Tour of Python\n",
      "Python Data Science Handbook\n",
      "Data Science mit Python\n",
      "Psychology\n"
     ]
    }
   ],
   "source": [
    "import requests\n",
    "\n",
    "response = requests.get(\"https://www.googleapis.com/books/v1/volumes?q=inauthor:Jake+VanderPlas\")\n",
    "\n",
    "if response.status_code == 200:\n",
    "    response_dict = response.json()\n",
    "\n",
    "    books = response_dict[\"items\"]\n",
    "\n",
    "    for book_dict in books:\n",
    "        info_dict = book_dict[\"volumeInfo\"]\n",
    "        print(info_dict[\"title\"])\n",
    "else:\n",
    "    print(\"Error: unable to retrieve books.  Server responded with status code\", response.status_code)"
   ]
  },
  {
   "cell_type": "markdown",
   "metadata": {},
   "source": [
    "## Exercise\n",
    "\n",
    "Use the PokeAPI to get data on Pokemon. Let's first define functions to get information from the API. Provided below is a URL that will get you started with the first 151 Pokemon! Run the cell below to see what we get."
   ]
  },
  {
   "cell_type": "code",
   "execution_count": 5,
   "metadata": {},
   "outputs": [
    {
     "data": {
      "text/plain": [
       "{'count': 964,\n",
       " 'next': 'https://pokeapi.co/api/v2/pokemon/?offset=15&limit=15',\n",
       " 'previous': None,\n",
       " 'results': [{'name': 'bulbasaur',\n",
       "   'url': 'https://pokeapi.co/api/v2/pokemon/1/'},\n",
       "  {'name': 'ivysaur', 'url': 'https://pokeapi.co/api/v2/pokemon/2/'},\n",
       "  {'name': 'venusaur', 'url': 'https://pokeapi.co/api/v2/pokemon/3/'},\n",
       "  {'name': 'charmander', 'url': 'https://pokeapi.co/api/v2/pokemon/4/'},\n",
       "  {'name': 'charmeleon', 'url': 'https://pokeapi.co/api/v2/pokemon/5/'},\n",
       "  {'name': 'charizard', 'url': 'https://pokeapi.co/api/v2/pokemon/6/'},\n",
       "  {'name': 'squirtle', 'url': 'https://pokeapi.co/api/v2/pokemon/7/'},\n",
       "  {'name': 'wartortle', 'url': 'https://pokeapi.co/api/v2/pokemon/8/'},\n",
       "  {'name': 'blastoise', 'url': 'https://pokeapi.co/api/v2/pokemon/9/'},\n",
       "  {'name': 'caterpie', 'url': 'https://pokeapi.co/api/v2/pokemon/10/'},\n",
       "  {'name': 'metapod', 'url': 'https://pokeapi.co/api/v2/pokemon/11/'},\n",
       "  {'name': 'butterfree', 'url': 'https://pokeapi.co/api/v2/pokemon/12/'},\n",
       "  {'name': 'weedle', 'url': 'https://pokeapi.co/api/v2/pokemon/13/'},\n",
       "  {'name': 'kakuna', 'url': 'https://pokeapi.co/api/v2/pokemon/14/'},\n",
       "  {'name': 'beedrill', 'url': 'https://pokeapi.co/api/v2/pokemon/15/'}]}"
      ]
     },
     "execution_count": 5,
     "metadata": {},
     "output_type": "execute_result"
    }
   ],
   "source": [
    "url = 'https://pokeapi.co/api/v2/pokemon/?limit=15'\n",
    "results = requests.get(url).json()['results']\n",
    "results"
   ]
  },
  {
   "cell_type": "markdown",
   "metadata": {},
   "source": [
    "Read the documentation [here](https://pokeapi.co/docs/v2.html) for information on navigating this API and use the API to obtain data to answer the following questions."
   ]
  },
  {
   "cell_type": "markdown",
   "metadata": {},
   "source": [
    "### Accessing Data\n",
    "\n",
    "For any **one** Pokemon, retrieve the following information in a dictionary format with the following keys:\n",
    " - ID\n",
    " - Name\n",
    " - Base experience\n",
    " - Weight\n",
    " - Height\n",
    " - Types\n",
    " - Abilities"
   ]
  },
  {
   "cell_type": "markdown",
   "metadata": {},
   "source": [
    "For `Types` and `Abilities`, you might want to write helper functions to have each attribute just be a list of types and a list of abilities. Your output should look like this:\n",
    "\n",
    "```\n",
    "{'id': 1, \n",
    "'name': 'bulbasaur', \n",
    "'base_experience': 64, \n",
    "'weight': 69, \n",
    "'height': 7, \n",
    "'types': ['poison', 'grass'], \n",
    "'abilities': ['chlorophyll', 'overgrow']}\n",
    "\n",
    "```"
   ]
  },
  {
   "cell_type": "code",
   "execution_count": null,
   "metadata": {},
   "outputs": [],
   "source": [
    "# you may define helper functions for types and abilities here"
   ]
  },
  {
   "cell_type": "code",
   "execution_count": 46,
   "metadata": {},
   "outputs": [],
   "source": [
    "\n",
    "poke_all = requests.get(url).json()"
   ]
  },
  {
   "cell_type": "code",
   "execution_count": 74,
   "metadata": {},
   "outputs": [
    {
     "name": "stdout",
     "output_type": "stream",
     "text": [
      "{'id': 1, 'name': 'bulbasaur', 'base_experience': 64, 'weight': 69, 'height': 7, 'types': ['poison', 'grass'], 'abilities': ['chlorophyll', 'overgrow']}\n"
     ]
    }
   ],
   "source": [
    "url = 'https://pokeapi.co/api/v2/pokemon/1/'\n",
    "\n",
    "def get_pokedata(url):\n",
    "\n",
    "    poke_data={}\n",
    "\n",
    "    # pull all data\n",
    "    poke_all = requests.get(url).json()\n",
    "\n",
    "    # pull single values\n",
    "    poke_data['id'] = poke_all['id']\n",
    "    poke_data['name'] = poke_all['name']\n",
    "    poke_data['base_experience'] = poke_all['base_experience']\n",
    "    poke_data['weight'] = poke_all['weight']\n",
    "    poke_data['height'] = poke_all['height']\n",
    "\n",
    "    # pull list of types/abilities\n",
    "    poke_types = poke_all['types']\n",
    "    poke_abils = poke_all['abilities']\n",
    "\n",
    "    type_list=[]\n",
    "    ability_list=[]\n",
    "\n",
    "    for i in poke_types:\n",
    "        type_list.append(i['type']['name'])\n",
    "    for i in poke_abils:\n",
    "        ability_list.append(i['ability']['name'])\n",
    "\n",
    "    # add lists to main dict\n",
    "    poke_data['types'] = type_list\n",
    "    poke_data['abilities'] = ability_list\n",
    "        \n",
    "    print(poke_data)\n",
    "    pass \n",
    "\n",
    "get_pokedata(url)"
   ]
  },
  {
   "cell_type": "markdown",
   "metadata": {},
   "source": [
    "### Pagination\n",
    "\n",
    "Get the same information for the first **151** Pokemon as a list of dictionaries ordered by Pokemon ID. Print the first and last elements of the list. (Hint: Use pagination)\n",
    "\n",
    "Your output should save the list to a variable and look like this:\n",
    "\n",
    "```\n",
    "[{'id': 1, \n",
    "'name': 'bulbasaur', \n",
    "'base_experience': 64, \n",
    "'weight': 69, \n",
    "'height': 7, \n",
    "'types': ['poison', 'grass'], \n",
    "'abilities': ['chlorophyll', 'overgrow']}, \n",
    "{'id': 2, \n",
    "'name': 'ivysaur', \n",
    "'base_experience': 142, \n",
    "'weight': 130, \n",
    "'height': 10, \n",
    "'types': ['poison', 'grass'], \n",
    "'abilities': ['chlorophyll', 'overgrow']}, ... ]\n",
    "\n",
    "```"
   ]
  },
  {
   "cell_type": "code",
   "execution_count": null,
   "metadata": {},
   "outputs": [],
   "source": []
  },
  {
   "cell_type": "markdown",
   "metadata": {},
   "source": [
    "## Bonus Exercise\n",
    "1. Query the [NASA ISS API](http://api.open-notify.org/) and print out the current latitude and longitude of the ISS\n",
    "2. Using iPyLeaflet, make a [Map](https://ipyleaflet.readthedocs.io/en/latest/api_reference/map.html) with a [Marker](https://ipyleaflet.readthedocs.io/en/latest/api_reference/marker.html) at the current location of the ISS"
   ]
  },
  {
   "cell_type": "code",
   "execution_count": null,
   "metadata": {},
   "outputs": [],
   "source": []
  }
 ],
 "metadata": {
  "kernelspec": {
   "display_name": "Python 3",
   "language": "python",
   "name": "python3"
  },
  "language_info": {
   "codemirror_mode": {
    "name": "ipython",
    "version": 3
   },
   "file_extension": ".py",
   "mimetype": "text/x-python",
   "name": "python",
   "nbconvert_exporter": "python",
   "pygments_lexer": "ipython3",
   "version": "3.6.9"
  }
 },
 "nbformat": 4,
 "nbformat_minor": 4
}
